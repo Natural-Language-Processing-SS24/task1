{
 "cells": [
  {
   "cell_type": "code",
   "execution_count": 3,
   "metadata": {},
   "outputs": [],
   "source": [
    "# Imports\n",
    "import gradio as gr\n",
    "from transformers import pipeline"
   ]
  },
  {
   "cell_type": "code",
   "execution_count": 4,
   "metadata": {},
   "outputs": [],
   "source": [
    "# Models for Named Entitiy Recognition\n",
    "NAMED_ENTITY_RECOGNITION_MODELS = {\n",
    "    \"BERT (CoNLL-03 English)\": \"dbmdz/bert-large-cased-finetuned-conll03-english\",\n",
    "    \"Wikineural Multilingual (Babelscape)\": \"Babelscape/wikineural-multilingual-ner\",\n",
    "    \"BERT (dslim)\": \"dslim/bert-large-NER\",\n",
    "    \"Biomedical (d4data)\": \"d4data/biomedical-ner-all\"\n",
    "}"
   ]
  },
  {
   "cell_type": "code",
   "execution_count": 5,
   "metadata": {},
   "outputs": [],
   "source": [
    "# Models for Summarization\n",
    "SUMMARIZATION_MODELS = {\n",
    "    \n",
    "}"
   ]
  },
  {
   "cell_type": "code",
   "execution_count": 6,
   "metadata": {},
   "outputs": [],
   "source": [
    "# Function for testing\n",
    "def return_input(input):\n",
    "    return input"
   ]
  },
  {
   "cell_type": "code",
   "execution_count": 7,
   "metadata": {},
   "outputs": [],
   "source": [
    "# Code for Named Entitiy Recognition\n",
    "def named_entity_recognition(model: str = None, text: str = None):\n",
    "    ner_pipeline = pipeline('ner', model=NAMED_ENTITY_RECOGNITION_MODELS[model])\n",
    "    entities = ner_pipeline(text)\n",
    "    return {\"text\": text, \"entities\": entities}"
   ]
  },
  {
   "cell_type": "code",
   "execution_count": 8,
   "metadata": {},
   "outputs": [],
   "source": [
    "# Code for Translation\n",
    "def helsinki_translation(source_language: str = None, target_language: str = None, text: str = None):\n",
    "    helsinki_translation_pipeline = pipeline('translation', model=f\"Helsinki-NLP/opus-mt-{source_language}-{target_language}\")\n",
    "    helsinki_translation = helsinki_translation_pipeline(text)\n",
    "    return helsinki_translation[0]['translation_text']\n",
    "\n",
    "def facebook_translation(source_language: str = None, target_language: str = None, text: str = None):\n",
    "    facebook_translation_pipeline = pipeline('translation', model=f\"facebook/m2m100_418M\", src_lang=source_language, tgt_lang=target_language)\n",
    "    facebook_translation = facebook_translation_pipeline(text)\n",
    "    return facebook_translation[0]['translation_text']\n",
    "\n",
    "def translation(source_language: str = None, target_language: str = None, text: str = None):\n",
    "    first_translation = helsinki_translation(source_language=source_language, target_language=target_language, text=text)\n",
    "    second_translation = facebook_translation(source_language=source_language, target_language=target_language, text=text)\n",
    "    return f\"{first_translation}\\n\\n{'─' * 30}\\nAlternatives:\\n{second_translation}\""
   ]
  },
  {
   "cell_type": "code",
   "execution_count": 11,
   "metadata": {},
   "outputs": [
    {
     "name": "stdout",
     "output_type": "stream",
     "text": [
      "Running on local URL:  http://127.0.0.1:7862\n",
      "\n",
      "To create a public link, set `share=True` in `launch()`.\n"
     ]
    },
    {
     "data": {
      "text/html": [
       "<div><iframe src=\"http://127.0.0.1:7862/\" width=\"100%\" height=\"500\" allow=\"autoplay; camera; microphone; clipboard-read; clipboard-write;\" frameborder=\"0\" allowfullscreen></iframe></div>"
      ],
      "text/plain": [
       "<IPython.core.display.HTML object>"
      ]
     },
     "metadata": {},
     "output_type": "display_data"
    }
   ],
   "source": [
    "# Code for the Gradio Interface\n",
    "def named_entity_recognition_interface():\n",
    "    model = gr.Dropdown(list(NAMED_ENTITY_RECOGNITION_MODELS.keys()), label=\"Model\", value=\"BERT (CoNLL-03 English)\")\n",
    "    text = gr.Textbox(lines=5, label=\"Input\", value=\"Please enter the text to analyze.\")\n",
    "    interface = gr.Interface(fn=named_entity_recognition, inputs=[model, text], outputs=gr.HighlightedText(), title=\"Named Entity Recognition\")\n",
    "    return interface\n",
    "\n",
    "def translation_interface():\n",
    "    source_language = gr.Dropdown([(\"English\", \"en\"), (\"Spanish\", \"es\"), (\"French\", \"fr\"), (\"German\", \"de\"), (\"Italian\", \"it\")], label=\"Source Language\", multiselect=False, value=\"en\")\n",
    "    target_language = gr.Dropdown([(\"English\", \"en\"), (\"Spanish\", \"es\"), (\"French\", \"fr\"), (\"German\", \"de\"), (\"Italian\", \"it\")], label=\"Target Language\", multiselect=False, value=\"de\")\n",
    "    text = gr.Textbox(lines=5, label=\"Input\", value=\"Please enter the text to translate.\")\n",
    "    interface = gr.Interface(fn=translation, inputs=[source_language, target_language, text], outputs=gr.Textbox() ,title=\"Translation\")\n",
    "    return interface\n",
    "\n",
    "def summarization_interface():\n",
    "    text = gr.Textbox(lines=5, label=\"Input\", value=\"Please enter the text to summarize.\")\n",
    "    output = gr.Textbox(label=\"Summary\")\n",
    "    interface = gr.Interface(fn=return_input, inputs=[text], outputs=output, title=\"Summarization\")\n",
    "    return interface\n",
    "\n",
    "def build_interface():\n",
    "    interface = gr.TabbedInterface([\n",
    "        named_entity_recognition_interface(),\n",
    "        translation_interface(),\n",
    "        summarization_interface()\n",
    "    ], [\"Named Entity Recognition\", \"Translation\", \"Summarization\"], title=\"NLP Toolkit\")\n",
    "    return interface\n",
    "\n",
    "# Main Function\n",
    "if __name__ == \"__main__\":\n",
    "    interface = build_interface()\n",
    "    interface.launch()"
   ]
  }
 ],
 "metadata": {
  "kernelspec": {
   "display_name": "natural-language-processing",
   "language": "python",
   "name": "python3"
  },
  "language_info": {
   "codemirror_mode": {
    "name": "ipython",
    "version": 3
   },
   "file_extension": ".py",
   "mimetype": "text/x-python",
   "name": "python",
   "nbconvert_exporter": "python",
   "pygments_lexer": "ipython3",
   "version": "3.12.3"
  }
 },
 "nbformat": 4,
 "nbformat_minor": 2
}
