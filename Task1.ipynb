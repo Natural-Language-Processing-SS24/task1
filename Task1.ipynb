{
 "cells": [
  {
   "cell_type": "markdown",
   "metadata": {},
   "source": [
    "# Task 1\n",
    "\n",
    "- Build gradio UIs to apply transformer models in different\n",
    "NLP contexts (Named Entity Recognition, Translation,\n",
    "Summarization)\n",
    "- Create and invite me to a GitHub repository for task 1\n",
    "- Coding and presentation should be based on Jupyter\n",
    "Notebook files (ipynb)\n",
    "- Additional record and upload a screencast demonstrating\n",
    "your application\n",
    "- Task Share: 20%\n",
    "\n",
    "**Gradio**\n",
    "\n",
    "> Gradio is an open-source Python library that allows developers to create and share interactive web interfaces for machine learning models and data science workflows with minimal coding. It supports various input and output types, provides real-time interactivity, and integrates easily with popular machine learning frameworks.\n",
    "\n",
    "**Hugging Face**\n",
    "\n",
    "> Hugging Face is a company and open-source community known for its transformers library, which provides state-of-the-art pre-trained models for natural language processing tasks. It also offers a platform for sharing, training, and deploying machine learning models, making advanced NLP technology accessible to researchers and developers."
   ]
  },
  {
   "cell_type": "markdown",
   "metadata": {},
   "source": []
  }
 ],
 "metadata": {
  "kernelspec": {
   "display_name": "natural-language-processing",
   "language": "python",
   "name": "python3"
  },
  "language_info": {
   "codemirror_mode": {
    "name": "ipython",
    "version": 3
   },
   "file_extension": ".py",
   "mimetype": "text/x-python",
   "name": "python",
   "nbconvert_exporter": "python",
   "pygments_lexer": "ipython3",
   "version": "3.12.3"
  }
 },
 "nbformat": 4,
 "nbformat_minor": 2
}
